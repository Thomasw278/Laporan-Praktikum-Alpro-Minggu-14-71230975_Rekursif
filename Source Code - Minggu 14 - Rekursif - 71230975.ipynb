{
 "cells": [
  {
   "cell_type": "code",
   "execution_count": 1,
   "id": "989ed8a9",
   "metadata": {},
   "outputs": [
    {
     "name": "stdout",
     "output_type": "stream",
     "text": [
      "Angka 2 <=> Merupakan Bilangan Prima\n",
      "Angka 8 <=> Bukan Merupakan Bilangan Prima\n",
      "Angka -1000000 <=> Bukan Merupakan Bilangan Prima Karena Bilangan Prima Diawali Dari Angka 2\n",
      "Angka 7 <=> Merupakan Bilangan Prima\n",
      "Angka 11 <=> Merupakan Bilangan Prima\n",
      "Angka 3 <=> Merupakan Bilangan Prima\n",
      "Angka 5 <=> Merupakan Bilangan Prima\n",
      "Angka 9 <=> Bukan Merupakan Bilangan Prima\n",
      "Angka 11 <=> Merupakan Bilangan Prima\n"
     ]
    }
   ],
   "source": [
    "def cek_prima(angka , prima = 2):\n",
    "  if angka == prima:\n",
    "    return (f\"Angka {angka} <=> Merupakan Bilangan Prima\")\n",
    "  elif angka < 2:\n",
    "    return (f\"Angka {angka} <=> Bukan Merupakan Bilangan Prima Karena Bilangan Prima Diawali Dari Angka 2\")\n",
    "  elif angka % prima == 0:\n",
    "    return (f\"Angka {angka} <=> Bukan Merupakan Bilangan Prima\")\n",
    "  else:\n",
    "    return cek_prima(angka,prima + 1)\n",
    "#Test Case : \n",
    "print(cek_prima(2))\n",
    "print(cek_prima(8))\n",
    "print(cek_prima(-1000000))\n",
    "print(cek_prima(7))\n",
    "print(cek_prima(11))\n",
    "print(cek_prima(3))\n",
    "print(cek_prima(5))\n",
    "print(cek_prima(9))\n",
    "print(cek_prima(11))"
   ]
  },
  {
   "cell_type": "code",
   "execution_count": 4,
   "id": "150c8581",
   "metadata": {},
   "outputs": [
    {
     "name": "stdout",
     "output_type": "stream",
     "text": [
      "Kasur ini rusak <=> Merupakan Palindrom\n",
      "Bebek minum ayam <=> Bukan Palindrom\n",
      "Makan nasi goreng <=> Bukan Palindrom\n",
      "Radar <=> Merupakan Palindrom\n",
      "Eve <=> Merupakan Palindrom\n",
      "Solos <=> Merupakan Palindrom\n"
     ]
    }
   ],
   "source": [
    "def cek_palindrome(string , indeks = 0):\n",
    "    string = string.lower()\n",
    "    if indeks >= len(string) // 2:\n",
    "        return f\"{string.capitalize()} <=> Merupakan Palindrom\"\n",
    "    elif string[indeks] != string[len(string) - 1 - indeks]:\n",
    "        return f\"{string.capitalize()} <=> Bukan Palindrom\"\n",
    "    else:\n",
    "        return cek_palindrome(string, indeks + 1)\n",
    "#Test Case : \n",
    "print(cek_palindrome(\"Kasur ini Rusak\"))\n",
    "print(cek_palindrome(\"Bebek minum ayam\"))\n",
    "print(cek_palindrome(\"Makan nasi goreng\"))\n",
    "print(cek_palindrome(\"radar\"))\n",
    "print(cek_palindrome(\"eve\"))\n",
    "print(cek_palindrome(\"Solos\"))"
   ]
  },
  {
   "cell_type": "code",
   "execution_count": 5,
   "id": "b9cf19d6",
   "metadata": {},
   "outputs": [
    {
     "name": "stdout",
     "output_type": "stream",
     "text": [
      "25\n",
      "9\n",
      "16\n",
      "100\n",
      "225\n",
      "625\n"
     ]
    }
   ],
   "source": [
    "def total_ganjil(angka, total = 0, step = 0):\n",
    "    if angka == 0:\n",
    "        return total\n",
    "    elif step % 2 != 0:\n",
    "        return total_ganjil(angka - 1, total + step, step + 2)\n",
    "    else:\n",
    "        return total_ganjil(angka, total, step + 1)\n",
    "# Test Case\n",
    "print(total_ganjil(5))  \n",
    "print(total_ganjil(3))  \n",
    "print(total_ganjil(4))\n",
    "print (total_ganjil(10))\n",
    "print (total_ganjil(15))\n",
    "print (total_ganjil(25))"
   ]
  },
  {
   "cell_type": "code",
   "execution_count": 6,
   "id": "9fd6c166",
   "metadata": {},
   "outputs": [
    {
     "name": "stdout",
     "output_type": "stream",
     "text": [
      "9\n",
      "6\n",
      "4\n",
      "16\n",
      "<=> Inputan Harus Berupa Digit <=>\n"
     ]
    }
   ],
   "source": [
    "def cektotaldigit(angka , step = 0, total = 0):\n",
    "    try:\n",
    "      angka = int(angka)\n",
    "      angka = str(angka)\n",
    "      if step == ((len(angka))-1):\n",
    "          total += int((angka)[step])\n",
    "          return total\n",
    "      else:\n",
    "          total += int((angka)[step])\n",
    "          return cektotaldigit(angka , step + 1 , total)\n",
    "    except:\n",
    "        return(\"<=> Inputan Harus Berupa Digit <=>\")\n",
    "#Test Case : \n",
    "print(cektotaldigit(234))\n",
    "print(cektotaldigit(15))\n",
    "print(cektotaldigit(22))\n",
    "print(cektotaldigit('565'))\n",
    "print(cektotaldigit('Delapan , Lima . Dua'))"
   ]
  },
  {
   "cell_type": "code",
   "execution_count": 7,
   "id": "0e026b3d",
   "metadata": {},
   "outputs": [
    {
     "name": "stdout",
     "output_type": "stream",
     "text": [
      "35\n",
      "21\n",
      "5\n"
     ]
    }
   ],
   "source": [
    "def kombinasi(n, r, totaln = 1, totalr = 1, totalnr = 1, step = 1):\n",
    "    nr = n - r\n",
    "    if step <= n:\n",
    "        totaln *= step\n",
    "        if step <= r:\n",
    "            totalr *= step\n",
    "        if step <= nr:\n",
    "            totalnr *= step\n",
    "        return kombinasi(n, r, totaln, totalr, totalnr, step + 1)\n",
    "    else:\n",
    "        return int(totaln / (totalr * totalnr))\n",
    "\n",
    "# Test Case\n",
    "print(kombinasi(7, 4))\n",
    "print(kombinasi(7,5))\n",
    "print(kombinasi(5,4))"
   ]
  }
 ],
 "metadata": {
  "kernelspec": {
   "display_name": "Python 3 (ipykernel)",
   "language": "python",
   "name": "python3"
  },
  "language_info": {
   "codemirror_mode": {
    "name": "ipython",
    "version": 3
   },
   "file_extension": ".py",
   "mimetype": "text/x-python",
   "name": "python",
   "nbconvert_exporter": "python",
   "pygments_lexer": "ipython3",
   "version": "3.11.5"
  }
 },
 "nbformat": 4,
 "nbformat_minor": 5
}
